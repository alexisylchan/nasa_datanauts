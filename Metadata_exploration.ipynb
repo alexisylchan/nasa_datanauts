{
 "cells": [
  {
   "cell_type": "code",
   "execution_count": 3,
   "metadata": {
    "collapsed": true
   },
   "outputs": [],
   "source": [
    "import json as json\n",
    "import numpy as np\n",
    "import pandas as pd"
   ]
  },
  {
   "cell_type": "code",
   "execution_count": 4,
   "metadata": {
    "collapsed": true
   },
   "outputs": [],
   "source": [
    "import gensim"
   ]
  },
  {
   "cell_type": "code",
   "execution_count": 5,
   "metadata": {
    "collapsed": false
   },
   "outputs": [],
   "source": [
    "keyworddf = pd.read_json('nasa_keyword.json')"
   ]
  },
  {
   "cell_type": "code",
   "execution_count": 6,
   "metadata": {
    "collapsed": false
   },
   "outputs": [],
   "source": [
    "titledf = pd.read_json('nasa_title.json')"
   ]
  },
  {
   "cell_type": "code",
   "execution_count": 7,
   "metadata": {
    "collapsed": true
   },
   "outputs": [],
   "source": [
    "descdf = pd.read_json('nasa_description.json')"
   ]
  },
  {
   "cell_type": "code",
   "execution_count": 47,
   "metadata": {
    "collapsed": false
   },
   "outputs": [],
   "source": [
    "import gensim\n",
    "from gensim.utils import smart_open, simple_preprocess\n",
    "from gensim.corpora.wikicorpus import _extract_pages, filter_wiki\n",
    "from gensim.parsing.preprocessing import STOPWORDS\n",
    "\n",
    "def tokenize(text):\n",
    "    return [token for token in simple_preprocess(text) if token not in STOPWORDS]\n",
    "\n",
    "def iter_wiki(dump_file):\n",
    "    \"\"\"Yield each article from the Wikipedia dump, as a `(title, tokens)` 2-tuple.\"\"\"\n",
    "    ignore_namespaces = 'Wikipedia Category File Portal Template MediaWiki User Help Book Draft'.split()\n",
    "    for title, text, pageid in _extract_pages(smart_open(dump_file)):\n",
    "        text = filter_wiki(text)\n",
    "        tokens = tokenize(text)\n",
    "        if len(tokens) < 50 or any(title.startswith(ns + ':') for ns in ignore_namespaces):\n",
    "            continue  # ignore short articles and various meta-articles\n",
    "        yield title, tokens\n",
    "\n",
    "def rec_topic(doc, id2word, model):\n",
    "    bow = id2word.doc2bow(tokenize(doc))\n",
    "    doc_lda = model[bow]\n",
    "    try:\n",
    "        print(model.print_topic(max(doc_lda, key=lambda item: item[1])[0]))\n",
    "    except Error as e:\n",
    "        print (e.strerror)"
   ]
  },
  {
   "cell_type": "code",
   "execution_count": 9,
   "metadata": {
    "collapsed": true
   },
   "outputs": [],
   "source": [
    "import bz2\n",
    "id2word = gensim.corpora.Dictionary.load_from_text('wiki_en_wordids.txt.bz2')\n",
    "model = gensim.models.LdaModel.load('myldamodel.lda')"
   ]
  },
  {
   "cell_type": "markdown",
   "metadata": {},
   "source": [
    "## Example topic recommender"
   ]
  },
  {
   "cell_type": "code",
   "execution_count": 36,
   "metadata": {
    "collapsed": false
   },
   "outputs": [
    {
     "name": "stdout",
     "output_type": "stream",
     "text": [
      "USGS 15 minute stream flow data for Kings Creek on the Konza Prairie\n"
     ]
    }
   ],
   "source": [
    "# Example description text\n",
    "example_desc = descdf.description[0]\n",
    "print (example_desc)"
   ]
  },
  {
   "cell_type": "code",
   "execution_count": 37,
   "metadata": {
    "collapsed": false
   },
   "outputs": [
    {
     "name": "stdout",
     "output_type": "stream",
     "text": [
      "0.010*river + 0.008*lake + 0.006*creek + 0.005*park + 0.005*island + 0.005*mountain + 0.004*water + 0.004*reserve + 0.004*forest + 0.003*dam\n"
     ]
    }
   ],
   "source": [
    "# Example topics recommended for description\n",
    "rec_topic(example_desc, id2word, model)"
   ]
  },
  {
   "cell_type": "code",
   "execution_count": 38,
   "metadata": {
    "collapsed": false
   },
   "outputs": [
    {
     "name": "stdout",
     "output_type": "stream",
     "text": [
      "15 Minute Stream Flow Data: USGS (FIFE)\n"
     ]
    }
   ],
   "source": [
    "print(titledf.title[0])"
   ]
  },
  {
   "cell_type": "code",
   "execution_count": 39,
   "metadata": {
    "collapsed": false
   },
   "outputs": [
    {
     "name": "stdout",
     "output_type": "stream",
     "text": [
      "[u'EARTH SCIENCE', u'HYDROSPHERE', u'SURFACE WATER']\n"
     ]
    }
   ],
   "source": [
    "print(keyworddf.keyword[0])"
   ]
  },
  {
   "cell_type": "code",
   "execution_count": 48,
   "metadata": {
    "collapsed": false
   },
   "outputs": [
    {
     "name": "stdout",
     "output_type": "stream",
     "text": [
      "32089\n",
      "[19069, 11524, 7004, 6690, 15, 20227, 642, 14741, 6327, 20322]\n",
      "Description:\n",
      "This data set contains a series of land surface parameters simulated from the VIC land-surface model (LSM) for Phase 2 of the North American Land Data Assimilation System (NLDAS-2). The data are in 1/8th degree grid spacing and range from Jan 1979 to the present. The temporal resolution is hourly. The file format is WMO GRIB-1.\n",
      "\n",
      "Details about the NLDAS-2 configuration of the VIC LSM can be found in Xia et al. (2012). The version of the VIC model for the NLDAS-2 VIC data available from the NASA GES DISC is VIC-4.0.3; this version of the VIC model is the same as used in Sheffield et al. (2003). \n",
      "\n",
      "The VIC model was developed at the University of Washington and Princeton University as a macroscale, semi-distributed, grid-based, hydrologic model [Liang et al., 1994; Wood et al., 1997].  The full water and energy balance modes of VIC were used for NLDAS-2. VIC uses three soil layers, with thicknesses that vary spatially. The root zone depends on the vegetation type and its root distribution, and can span all three soil layers. The VIC model includes a two-layer energy balance snow model [Cherkauer et al., 2003].\n",
      "\n",
      "The VIC LSM was forced by the hourly NLDAS-2 forcing \"File A\" files, and contains forty-three fields. The data set applies a user-defined parameter table to indicate the contents and parameter number. The GRIBTAB file (http://disc.sci.gsfc.nasa.gov/hydrology/grib_tabs/gribtab_NLDAS_VIC.002.txt) shows a list of parameters for this data set, along with their Product Definition Section (PDS) IDs and units.\n",
      "\n",
      "For information about the vertical layers of the Soil Moisture Content (PDS 086), Soil Temperature (PDS 085), and Liquid Soil Moisture Content (PDS 151), please see the README Document at ftp://hydro1.sci.gsfc.nasa.gov/data/s4pa/NLDAS/README.NLDAS2.pdf or the GrADS ctl file at ftp://hydro1.sci.gsfc.nasa.gov/data/gds/NLDAS/NLDAS_VIC0125_H.002.ctl.\n",
      "0.006*energy + 0.005*gas + 0.004*physics + 0.004*nuclear + 0.004*mine + 0.004*formation + 0.004*oil + 0.004*solar + 0.003*esperance + 0.003*mining\n",
      "\n",
      "Title:\n",
      "NLDAS VIC Land Surface Model L4 Hourly 0.125 x 0.125 degree V002\n",
      "0.010*research + 0.008*education + 0.008*professor + 0.008*science + 0.007*institute + 0.007*students + 0.006*journal + 0.005*engineering + 0.005*sciences + 0.005*degree\n",
      "\n",
      "Keywords\n",
      "[u'EARTH SCIENCE', u'ATMOSPHERE', u'ATMOSPHERIC WATER VAPOR', u'ATMOSPHERIC RADIATION', u'BIOSPHERE', u'VEGETATION', u'CRYOSPHERE', u'SNOW/ICE', u'TERRESTRIAL HYDROSPHERE', u'SURFACE WATER', u'LAND SURFACE', u'SOILS', u'SURFACE RADIATIVE PROPERTIES', u'PRECIPITATION', u'SURFACE THERMAL PROPERTIES']\n",
      "\n",
      "\n",
      "\n",
      "Description:\n",
      "This SBIR Phase I effort proposes an innovative class of refractory\n",
      "metal intermetallic composites as alternatives to high temperature\n",
      "metallic materials presently used and/or considered for in-space\n",
      "propulsion components.  In addition to a superior high temperature\n",
      "performance potential, these niobium-based intermetallics could offer\n",
      "significant cost savings over conventional refractory alloys, provided\n",
      "they can be affordably manufactured into near-net shapes.  An advanced\n",
      "reactive metal casting technology is applied to produce the most\n",
      "sophisticated Nb-based intermetallic composite component shape ever\n",
      "attempted.  Innovative shape processing techniques are needed for\n",
      "Nb-based intermetallics, since they are critical to manufacturing cost-effectiveness.\n",
      "0.009*engine + 0.007*power + 0.007*aircraft + 0.005*design + 0.005*car + 0.004*locomotive + 0.004*class + 0.004*model + 0.004*plant + 0.004*electric\n",
      "\n",
      "Title:\n",
      "Niobium-Based Intermetallics for Affordable In-Space Propulsion Applications Project\n",
      "0.014*wta + 0.012*satellite + 0.010*space + 0.009*star + 0.009*iwrg + 0.009*earth + 0.009*orbit + 0.008*ngc + 0.008*galaxy + 0.007*observatory\n",
      "\n",
      "Keywords\n",
      "[u'Johnson Space Center', u'Project', u'completed']\n",
      "\n",
      "\n",
      "\n",
      "Description:\n",
      "Cloud-Aerosol Lidar and Infrared Pathfinder Satellite Observations (CALIPSO) was launched on April 28, 2006 to study the impact of clouds and aerosols on the Earth’s radiation budget and climate. It flies in formation with five other satellites in the international “A-Train” (PDF) constellation for coincident Earth observations. The CALIPSO satellite comprises three instruments, the Cloud-Aerosol LIdar with Orthogonal Polarization (CALIOP), the Imaging Infrared Radiometer (IIR), and the Wide Field Camera (WFC). CALIPSO is a joint satellite mission between NASA and the French Agency, CNES. These data consist 5 km aerosol layer data.\n",
      "0.014*wta + 0.012*satellite + 0.010*space + 0.009*star + 0.009*iwrg + 0.009*earth + 0.009*orbit + 0.008*ngc + 0.008*galaxy + 0.007*observatory\n",
      "\n",
      "Title:\n",
      "CALIPSO Lidar L2 Polar Stratospheric Cloud Data V1-00\n",
      "0.009*software + 0.009*http + 0.007*www + 0.007*app + 0.006*data + 0.006*users + 0.006*mobile + 0.006*com + 0.004*web + 0.004*user\n",
      "\n",
      "Keywords\n",
      "[u'CLIMATE', u'AEROSOL', u'SATELLITE', u'CLOUD', u'ATMOSPHERIC SCIENCE', u'RADIATION', u'EOS']\n",
      "\n",
      "\n",
      "\n",
      "Description:\n",
      "Image database of meteorites of martian origin collected by the Antarctic Search for Meteorites Program. \n",
      "0.014*wta + 0.012*satellite + 0.010*space + 0.009*star + 0.009*iwrg + 0.009*earth + 0.009*orbit + 0.008*ngc + 0.008*galaxy + 0.007*observatory\n",
      "\n",
      "Title:\n",
      "Martian Meteorite Compendium\n",
      "0.006*energy + 0.005*gas + 0.004*physics + 0.004*nuclear + 0.004*mine + 0.004*formation + 0.004*oil + 0.004*solar + 0.003*esperance + 0.003*mining\n",
      "\n",
      "Keywords\n",
      "[u'SPACE SCIENCE', u'MARS', u'METEORITES']\n",
      "\n",
      "\n",
      "\n",
      "Description:\n",
      "The 2005 Environmental Sustainability Index (ESI) is a measure of overall progress towards environmental sustainability, developed for 146 countries. The index provides a composite profile of national environmental stewardship based on a compilation of 21 indicators derived from 76 underlying datasets. The 2005 version of the ESI represents a significant update and improvement on earlier versions; the country ESI scores or rankings should not be compared to earlier versions because of changes to the methodology and underlying data. The index was unveiled at the World Economic Forum's annual meeting, January 2005, Davos, Switzerland. The 2005 ESI is a joint product of the Yale Center for Environmental Law and Policy (YCELP) and the Columbia University Center for International Earth Science Information Network (CIESIN), in collaboration with the World Economic Forum (WEF) and the Joint Research Centre (JRC), European Commission.\n",
      "0.004*business + 0.003*bank + 0.003*services + 0.003*million + 0.003*management + 0.003*companies + 0.003*development + 0.003*founded + 0.002*financial + 0.002*investment\n",
      "\n",
      "Title:\n",
      "2005 Environmental Sustainability Index (ESI)\n",
      "0.004*business + 0.003*bank + 0.003*services + 0.003*million + 0.003*management + 0.003*companies + 0.003*development + 0.003*founded + 0.002*financial + 0.002*investment\n",
      "\n",
      "Keywords\n",
      "[u'EARTH SCIENCE', u'ATMOSPHERE', u'AIR QUALITY', u'ATMOSPHERIC CHEMISTRY', u'BIOLOGICAL CLASSIFICATION', u'ANIMALS/VERTEBRATES', u'BIOSPHERE', u'ECOLOGICAL DYNAMICS', u'VEGETATION', u'HUMAN DIMENSIONS', u'HABITAT CONVERSION/FRAGMENTATION', u'ENVIRONMENTAL IMPACTS', u'HUMAN HEALTH', u'TERRESTRIAL HYDROSPHERE', u'GROUND WATER', u'WATER QUALITY/WATER CHEMISTRY', u'LAND SURFACE', u'EROSION/SEDIMENTATION', u'LAND USE/LAND COVER', u'SOILS', u'SOLID EARTH', u'NATURAL RESOURCES']\n",
      "\n",
      "\n",
      "\n",
      "Description:\n",
      "The High Resolution Doppler Imager (HRDI) Level 3AT data product consists of daily, 65.536 second interval time-ordered vertical profiles of meridional and zonal wind components, temperature and volume emmission rate of O2.  The instrument measured Doppler shifts of spectral lines in the visible and near-IR between 400 and 800 nm.  HRDI was flown on NASA's Upper Atmosphere Research Satellite (UARS) and designed to measure winds and other parameters in the mesosphere and lower thermosphere by primarily observing the Doppler shift of emitted light, and in the stratosphere by observing the Doppler shift of atmospheric absorption features. Measurements were made in the mesosphere between 50 and 115 km, and in the stratosphere between 10 and 40 km at about 2.5 km resolution. Data were collected between latitude 40S and 76N and 76S and 40N, alternating each satellite yaw cycle of about 36 days. The HRDI Level 3AT data were processed with the version 11 algorithm.\n",
      "\n",
      "The HRDI level 3AT product consists of 8 granules per day. A data granule is one HRDI species or subtype per day.  The following subtypes are available:\n",
      "\n",
      " 1) MERWIN_A - meridional wind component on altitude grid  [m/s]\n",
      " 2) MERWIN_P - meridional wind component on pressure grid  [m/s]\n",
      " 3) ZONWIN_A - zonal wind component on altitude grid       [m/s]\n",
      " 4) ZONWIN_P - zonal wind component on pressure grid       [m/s]\n",
      " 5) TEMP_A - temperature on altitude grid                  [Kelvin]\n",
      " 6) TEMP_P - temperature on pressure grid                  [Kelvin]\n",
      " 7) VOLER_A - O2 volume emission rate on altitude grid     [cm-3]\n",
      " 8) VOLER_P - O2 volume emission rate on pressre grid      [cm-3]\n",
      "\n",
      "HRDI data are on the UARS standard altitude levels (in km) given by:\n",
      "\n",
      "z(i) = 5*i                 for i<=12\n",
      "z(i) = 60 + (i-12)*3       for 13 <= i <= 32\n",
      "z(i) = 120 + (i-32)*5      for 33 <= i <= 88\n",
      "\n",
      "as well as the UARS standard pressure levels (in mbars) given by:\n",
      "\n",
      "P(i) =  1000 * 10**(-i/6)  for i = 0, 1, 2, ...\n",
      "\n",
      "The data files are available in a binary record oriented format.\n",
      "0.006*energy + 0.005*gas + 0.004*physics + 0.004*nuclear + 0.004*mine + 0.004*formation + 0.004*oil + 0.004*solar + 0.003*esperance + 0.003*mining\n",
      "\n",
      "Title:\n",
      "UARS High Resolution Doppler Imager (HRDI) Level 3AT V001\n",
      "0.006*energy + 0.005*gas + 0.004*physics + 0.004*nuclear + 0.004*mine + 0.004*formation + 0.004*oil + 0.004*solar + 0.003*esperance + 0.003*mining\n",
      "\n",
      "Keywords\n",
      "[u'EARTH SCIENCE', u'ATMOSPHERE', u'ATMOSPHERIC RADIATION', u'ATMOSPHERIC TEMPERATURE', u'ATMOSPHERIC WINDS']\n",
      "\n",
      "\n",
      "\n",
      "Description:\n",
      "The BOREAS HYD-09 team collected data on precipitation and streamflow over portions of the NSA and SSA.  This data set contains Cartesian maps of rain accumulation for 1-hour and daily periods during the summer of 1994 over the SSA only (not the full view of the radar)\n",
      "0.010*river + 0.008*lake + 0.006*creek + 0.005*park + 0.005*island + 0.005*mountain + 0.004*water + 0.004*reserve + 0.004*forest + 0.003*dam\n",
      "\n",
      "Title:\n",
      "BOREAS HYD-09 Hourly and Daily Radar Rainfall Maps for the Southern Study Area\n",
      "0.010*river + 0.008*lake + 0.006*creek + 0.005*park + 0.005*island + 0.005*mountain + 0.004*water + 0.004*reserve + 0.004*forest + 0.003*dam\n",
      "\n",
      "Keywords\n",
      "[u'EARTH SCIENCE', u'ATMOSPHERE', u'PRECIPITATION']\n",
      "\n",
      "\n",
      "\n",
      "Description:\n",
      "Long-lived Venus landers require power and cooling. Heat from the roughly 64 General Purpose Heat Source (GPHS) modules must be delivered to the convertor with minimal DT. The cooling system must be shutoff during the transit to Venus without overheating the GPHS modules. This program will develop an alkali metal Variable Conductance Heat Pipe (VCHP) integrated with a two-phase heat collection/transport package (HTP) between the GPHS stack and the convertor.  The VCHP allows the Stirling converter to be shutoff during transit to Venus. The two-phase HTP minimizes the temperature drop between the multi-GPHS stack and the heater head.  The HTP is required due to the large number of modules that must be interfaced, and the low allowable DT between the heater head temperature of 1200&lt;SUP&gt;o&lt;/SUP&gt;C and the maximum allowable iridium cladding temperature in the GPHS (1266&lt;SUP&gt;o&lt;/SUP&gt;C). The HTP also improves the convertor efficiency by decreasing the temperature non-uniformities at the high heat flux interface of the hot end of the heater head.  It is superior to pumped liquid systems for transferring heat, because it eliminates the low efficiency liquid metal pump that they require.  Other advantages of the system include low mass and volume, and a high degree of redundancy. \n",
      "0.006*energy + 0.005*gas + 0.004*physics + 0.004*nuclear + 0.004*mine + 0.004*formation + 0.004*oil + 0.004*solar + 0.003*esperance + 0.003*mining\n",
      "\n",
      "Title:\n",
      "Thermal Management System for Long-Lived Venus Landers Project\n",
      "0.004*business + 0.003*bank + 0.003*services + 0.003*million + 0.003*management + 0.003*companies + 0.003*development + 0.003*founded + 0.002*financial + 0.002*investment\n",
      "\n",
      "Keywords\n",
      "[u'Glenn Research Center', u'Project', u'completed']\n",
      "\n",
      "\n",
      "\n",
      "Description:\n",
      "Atmospheric vertical profile estimates and associated errors (diagonals and covariance matrices), along with retrieved surface temperature, cloud effective optical depth, column estimates, quality flags, averaging kernels and a priori constraint vectors. (Suggested Usage: Profiles can be compared to other measurements or models of this species or used as input to global chemical/dynamical models)\n",
      "0.004*data + 0.003*model + 0.003*analysis + 0.003*theory + 0.002*example + 0.002*systems + 0.002*algorithm + 0.002*method + 0.002*system + 0.002*process\n",
      "\n",
      "Title:\n",
      "TES/Aura L2 HNO3 Limb V004\n",
      "0.035*french + 0.035*le + 0.033*la + 0.028*paris + 0.025*des + 0.022*jean + 0.022*les + 0.022*du + 0.021*et + 0.020*france\n",
      "\n",
      "Keywords\n",
      "[u'EARTH SCIENCE', u'ATMOSPHERE', u'ATMOSPHERIC CHEMISTRY/NITROGEN COMPOUNDS', u'AIR QUALITY']\n",
      "\n",
      "\n",
      "\n",
      "Description:\n",
      "MODIS/Aqua Aerosol Cloud Water Vapor Ozone Daily L3 Global 1Deg CMG\n",
      "0.006*energy + 0.005*gas + 0.004*physics + 0.004*nuclear + 0.004*mine + 0.004*formation + 0.004*oil + 0.004*solar + 0.003*esperance + 0.003*mining\n",
      "\n",
      "Title:\n",
      "MODIS/Aqua Aerosol Cloud Water Vapor Ozone Daily L3 Global 1Deg CMG V5.1\n",
      "0.006*energy + 0.005*gas + 0.004*physics + 0.004*nuclear + 0.004*mine + 0.004*formation + 0.004*oil + 0.004*solar + 0.003*esperance + 0.003*mining\n",
      "\n",
      "Keywords\n",
      "[u'EARTH SCIENCE', u'ATMOSPHERE', u'AEROSOLS', u'ATMOSPHERIC CHEMISTRY/OXYGEN COMPOUNDS', u'ATMOSPHERIC RADIATION', u'ATMOSPHERIC TEMPERATURE', u'ATMOSPHERIC WATER VAPOR', u'CLOUDS']\n",
      "\n",
      "\n",
      "\n"
     ]
    }
   ],
   "source": [
    "num_rows = descdf.description.count()\n",
    "print(num_rows)\n",
    "\n",
    "import random\n",
    "random_indices = random.sample(xrange(num_rows), 10)\n",
    "print random_indices\n",
    "\n",
    "for i in random_indices: \n",
    "    desc_text = descdf.description[i]\n",
    "    title_text = titledf.title[i]\n",
    "    keywords = keyworddf.keyword[i]\n",
    "    print ('Description:')\n",
    "    print (desc_text)\n",
    "    rec_topic(desc_text, id2word, model)\n",
    "    print ('\\nTitle:')\n",
    "    print (title_text)\n",
    "    rec_topic(title_text, id2word, model)\n",
    "    print ('\\nKeywords')\n",
    "    print (keywords)\n",
    "    print ('\\n\\n')"
   ]
  },
  {
   "cell_type": "code",
   "execution_count": null,
   "metadata": {
    "collapsed": true
   },
   "outputs": [],
   "source": []
  }
 ],
 "metadata": {
  "kernelspec": {
   "display_name": "Python 2",
   "language": "python",
   "name": "python2"
  },
  "language_info": {
   "codemirror_mode": {
    "name": "ipython",
    "version": 2
   },
   "file_extension": ".py",
   "mimetype": "text/x-python",
   "name": "python",
   "nbconvert_exporter": "python",
   "pygments_lexer": "ipython2",
   "version": "2.7.11"
  }
 },
 "nbformat": 4,
 "nbformat_minor": 0
}
